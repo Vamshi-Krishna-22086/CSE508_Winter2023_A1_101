{
 "cells": [
  {
   "cell_type": "code",
   "execution_count": 2,
   "id": "8d300dc2",
   "metadata": {},
   "outputs": [],
   "source": [
    "# importing libraries\n",
    "import os\n",
    "import pickle\n",
    "import string\n",
    "import nltk\n",
    "from nltk.corpus import stopwords, RegexpTokenizer"
   ]
  },
  {
   "cell_type": "code",
   "execution_count": 4,
   "id": "62a66bd8",
   "metadata": {},
   "outputs": [],
   "source": [
    "# creating a list of files present in the directory\n",
    "folder = 'CSE508_Winter2023_Dataset_processed_1'\n",
    "files = os.listdir(folder)\n",
    "# print(sorted(files))"
   ]
  },
  {
   "cell_type": "code",
   "execution_count": 5,
   "id": "50cc248e",
   "metadata": {},
   "outputs": [],
   "source": [
    "# creating the list of names of files in which a particular word occured along with frequency\n",
    "# and creating a list with all the unique words\n",
    "file_names = []\n",
    "s = []\n",
    "all_words = \"\"\n",
    "for file in files:\n",
    "    f = open(f'{folder}/{file}','r')\n",
    "    file_contents = f.read()\n",
    "    file_names.append(file)\n",
    "    words = list(file_contents.split(\" \"))\n",
    "    words = list(set(words))\n",
    "    s.append(words)\n",
    "    temp = \" \".join(words)\n",
    "    all_words = all_words + \" \"+ temp\n",
    "    f.close()\n",
    "all_words = list(all_words.split(\" \"))\n",
    "all_words = list(set(all_words))  \n",
    "for ele in all_words:\n",
    "    if ele == '':\n",
    "        all_words.remove(ele)"
   ]
  },
  {
   "cell_type": "code",
   "execution_count": 6,
   "id": "3bc06a75",
   "metadata": {},
   "outputs": [],
   "source": [
    "# print(s)"
   ]
  },
  {
   "cell_type": "code",
   "execution_count": 8,
   "id": "f5c0f94e",
   "metadata": {},
   "outputs": [
    {
     "name": "stdout",
     "output_type": "stream",
     "text": [
      "Total unique words in the dataSet 7608\n",
      "\n"
     ]
    }
   ],
   "source": [
    "# stats about number of unique words\n",
    "print(f'Total unique words in the dataSet {len(all_words)}\\n')\n",
    "# print(\"Total unique words are :\\n\")\n",
    "# # print(all_words)"
   ]
  },
  {
   "cell_type": "code",
   "execution_count": 9,
   "id": "cb07b703",
   "metadata": {},
   "outputs": [],
   "source": [
    "# creating unigram inverted_index\n",
    "inverted_index = {}\n",
    "for word in all_words:\n",
    "    values = [0,[]]\n",
    "    count = 0\n",
    "    for j in range(len(s)):\n",
    "        if word in s[j]:\n",
    "            values[1].append(file_names[j])\n",
    "            count += 1\n",
    "    values[0] = count   \n",
    "    values[1] = sorted(values[1])\n",
    "    inverted_index[word] = values\n",
    "    \n",
    "# inverted_index  "
   ]
  },
  {
   "cell_type": "code",
   "execution_count": 10,
   "id": "a1b6ae94",
   "metadata": {},
   "outputs": [],
   "source": [
    "# dumping the inverted index using pickle\n",
    "pickle.dump(inverted_index,open(\"inverted_index.pkl\",'wb'))"
   ]
  },
  {
   "cell_type": "code",
   "execution_count": 11,
   "id": "3104b23c",
   "metadata": {},
   "outputs": [],
   "source": [
    "#loading the inverted index\n",
    "loaded_inverted_index = pickle.load(open('inverted_index.pkl','rb'))"
   ]
  },
  {
   "cell_type": "code",
   "execution_count": 12,
   "id": "a0675b7c",
   "metadata": {},
   "outputs": [],
   "source": [
    "## printing the loaded inverted index\n",
    "# loaded_inverted_index['car']"
   ]
  },
  {
   "cell_type": "code",
   "execution_count": 13,
   "id": "6891e1a7",
   "metadata": {},
   "outputs": [],
   "source": [
    "# sorting the file names\n",
    "files = sorted(files)\n",
    "# files"
   ]
  },
  {
   "cell_type": "code",
   "execution_count": 14,
   "id": "2db6e915",
   "metadata": {},
   "outputs": [],
   "source": [
    "# AND and NOT AND logic\n",
    "# taking two lists as parameters and returning a list and number of comparisions\n",
    "# l1 is smaller than l2\n",
    "def intersection(l1,l2):\n",
    "    comparisions = 0;\n",
    "    i=0\n",
    "    j=0\n",
    "    l1_and_l2 = []\n",
    "    while(i < len(l1) and j < len(l2)):\n",
    "        if(l1[i] == l2[j]):\n",
    "            l1_and_l2.append(l1[i])\n",
    "            i += 1\n",
    "            j += 1\n",
    "            comparisions += 1\n",
    "        elif(l1[i] < l2[j]):\n",
    "            # update smaller value i.e i\n",
    "            i+= 1\n",
    "            comparisions += 2\n",
    "        else:  \n",
    "            j+= 1\n",
    "            comparisions += 2\n",
    "    return (l1_and_l2,comparisions) "
   ]
  },
  {
   "cell_type": "code",
   "execution_count": 15,
   "id": "2955035d",
   "metadata": {},
   "outputs": [],
   "source": [
    "# OR and NOT OR logic\n",
    "# taking two lists as parameters and returning a list and number of comparisions\n",
    "# l1 is smaller than l2\n",
    "def union(l1,l2):\n",
    "    comparisions = 0\n",
    "    i=0\n",
    "    j=0\n",
    "    l1_or_l2 = []\n",
    "    while(i<len(l1) and j<len(l2)):\n",
    "        if(l1[i] == l2[j]):\n",
    "            l1_or_l2.append(l1[i])\n",
    "            i+=1\n",
    "            j+=1\n",
    "            comparisions += 1\n",
    "        elif(l1[i]<l2[j]):\n",
    "            l1_or_l2.append(l1[i])\n",
    "            i+=1\n",
    "            comparisions += 2\n",
    "        else:\n",
    "            l1_or_l2.append(l2[j])\n",
    "            j+=1\n",
    "            comparisions += 2\n",
    "    if(j < len(l2)):\n",
    "        l1_or_l2.extend(l2[j:])\n",
    "    return (l1_or_l2,comparisions) "
   ]
  },
  {
   "cell_type": "code",
   "execution_count": 17,
   "id": "dde06cba",
   "metadata": {},
   "outputs": [
    {
     "name": "stdout",
     "output_type": "stream",
     "text": [
      "List of files containing dissociating AND gas : ['cranfield0110', 'cranfield0166', 'cranfield0167', 'cranfield0236', 'cranfield0317', 'cranfield0517', 'cranfield0575', 'cranfield0656', 'cranfield1295']\n",
      "numeber of comparisions : 235\n"
     ]
    }
   ],
   "source": [
    "# T1 AND T2\n",
    "t1 = 'dissociating'\n",
    "t2 = 'gas'\n",
    "t1_list = loaded_inverted_index[t1][1]\n",
    "t1_list_len = len(loaded_inverted_index[t1][1])\n",
    "t2_list = loaded_inverted_index[t2][1]\n",
    "t2_list_len = len(loaded_inverted_index[t2][1])\n",
    "\n",
    "# using function build from scratch\n",
    "if(len(t1_list) < len(t2_list)):\n",
    "    t1_and_t2, comparisions = intersection(t1_list,t2_list)\n",
    "else:\n",
    "    t1_and_t2, comparisions = intersection(t2_list,t1_list)\n",
    "print(f'List of files containing {t1} AND {t2} : {t1_and_t2}')\n",
    "print(f'numeber of comparisions : {comparisions}')\n",
    "\n",
    "# #using set functions\n",
    "# t1_and_t2 = list(set(t1_list) & set(t2_list))\n",
    "\n",
    "# print(min(t1_list_len,t2_list_len))\n",
    "# print(sorted(t1_and_t2))"
   ]
  },
  {
   "cell_type": "code",
   "execution_count": 25,
   "id": "1bea71e0",
   "metadata": {},
   "outputs": [
    {
     "name": "stdout",
     "output_type": "stream",
     "text": [
      "List of files containing positive OR letter : ['cranfield0133', 'cranfield0150', 'cranfield0371', 'cranfield0392', 'cranfield0447', 'cranfield0515', 'cranfield0636', 'cranfield0693', 'cranfield0694', 'cranfield0721', 'cranfield0988', 'cranfield1005', 'cranfield1035', 'cranfield1147', 'cranfield1201', 'cranfield1218', 'cranfield1302', 'cranfield1347', 'cranfield1365']\n",
      "numeber of comparisions : 6\n"
     ]
    }
   ],
   "source": [
    "# T1 OR T2\n",
    "t1 = 'positive'\n",
    "t2 = 'letter'\n",
    "t1_list = loaded_inverted_index[t1][1]\n",
    "t1_list_len = len(loaded_inverted_index[t1][1])\n",
    "t2_list = loaded_inverted_index[t2][1]\n",
    "t2_list_len = len(loaded_inverted_index[t2][1])\n",
    "if(len(t1_list) < len(t2_list)):\n",
    "    t1_or_t2, comparisions = union(t1_list,t2_list)\n",
    "else:\n",
    "    t1_or_t2, comparisions = union(t2_list,t1_list)\n",
    "print(f'List of files containing {t1} OR {t2} : {t1_or_t2}')\n",
    "print(f'numeber of comparisions : {comparisions}')"
   ]
  },
  {
   "cell_type": "code",
   "execution_count": 32,
   "id": "d3284623",
   "metadata": {},
   "outputs": [
    {
     "name": "stdout",
     "output_type": "stream",
     "text": [
      "List of files containing positive AND NOT letter : ['cranfield0133', 'cranfield0150', 'cranfield0392', 'cranfield0447', 'cranfield0515', 'cranfield0636', 'cranfield0693', 'cranfield0694', 'cranfield0721', 'cranfield0988', 'cranfield1005', 'cranfield1035', 'cranfield1147', 'cranfield1201', 'cranfield1218', 'cranfield1302', 'cranfield1347', 'cranfield1365']\n",
      "numeber of comparisions : 2710\n",
      "18\n"
     ]
    }
   ],
   "source": [
    "# T1 AND NOT T2\n",
    "t1 = 'positive'\n",
    "t2 = 'letter'\n",
    "t1_list = loaded_inverted_index[t1][1]\n",
    "t1_list_len = len(loaded_inverted_index[t1][1])\n",
    "t2_list = loaded_inverted_index[t2][1]\n",
    "t2_list_len = len(loaded_inverted_index[t2][1])\n",
    "not_t2_list = [ele for ele in files if ele not in t2_list]\n",
    "\n",
    "if(len(t1_list) < len(not_t2_list)):\n",
    "    t1_and_not_t2, comparisions = intersection(t1_list,not_t2_list)\n",
    "else:\n",
    "    t1_and_not_t2, comparisions = intersection(not_t2_list,t1_list)\n",
    "print(f'List of files containing {t1} AND NOT {t2} : {t1_and_not_t2}')\n",
    "print(f'numeber of comparisions : {comparisions}')\n",
    "\n",
    "# t1_and_not_t2 = list(set(t1_list) & set(not_t2_list))\n",
    "# print(min(t1_list_len,len(not_t2_list)))\n",
    "# print(sorted(t1_and_not_t2))"
   ]
  },
  {
   "cell_type": "code",
   "execution_count": 30,
   "id": "ffe11a5f",
   "metadata": {},
   "outputs": [
    {
     "name": "stdout",
     "output_type": "stream",
     "text": [
      "List of files containing positive OR NOT letter : ['cranfield0001', 'cranfield0002', 'cranfield0003', 'cranfield0004', 'cranfield0005', 'cranfield0006', 'cranfield0007', 'cranfield0008', 'cranfield0009', 'cranfield0010', 'cranfield0011', 'cranfield0012', 'cranfield0013', 'cranfield0014', 'cranfield0015', 'cranfield0016', 'cranfield0017', 'cranfield0018', 'cranfield0019', 'cranfield0020', 'cranfield0021', 'cranfield0022', 'cranfield0023', 'cranfield0024', 'cranfield0025', 'cranfield0026', 'cranfield0027', 'cranfield0028', 'cranfield0029', 'cranfield0030', 'cranfield0031', 'cranfield0032', 'cranfield0033', 'cranfield0034', 'cranfield0035', 'cranfield0036', 'cranfield0037', 'cranfield0038', 'cranfield0039', 'cranfield0040', 'cranfield0041', 'cranfield0042', 'cranfield0043', 'cranfield0044', 'cranfield0045', 'cranfield0046', 'cranfield0047', 'cranfield0048', 'cranfield0049', 'cranfield0050', 'cranfield0051', 'cranfield0052', 'cranfield0053', 'cranfield0054', 'cranfield0055', 'cranfield0056', 'cranfield0057', 'cranfield0058', 'cranfield0059', 'cranfield0060', 'cranfield0061', 'cranfield0062', 'cranfield0063', 'cranfield0064', 'cranfield0065', 'cranfield0066', 'cranfield0067', 'cranfield0068', 'cranfield0069', 'cranfield0070', 'cranfield0071', 'cranfield0072', 'cranfield0073', 'cranfield0074', 'cranfield0075', 'cranfield0076', 'cranfield0077', 'cranfield0078', 'cranfield0079', 'cranfield0080', 'cranfield0081', 'cranfield0082', 'cranfield0083', 'cranfield0084', 'cranfield0085', 'cranfield0086', 'cranfield0087', 'cranfield0088', 'cranfield0089', 'cranfield0090', 'cranfield0091', 'cranfield0092', 'cranfield0093', 'cranfield0094', 'cranfield0095', 'cranfield0096', 'cranfield0097', 'cranfield0098', 'cranfield0099', 'cranfield0100', 'cranfield0101', 'cranfield0102', 'cranfield0103', 'cranfield0104', 'cranfield0105', 'cranfield0106', 'cranfield0107', 'cranfield0108', 'cranfield0109', 'cranfield0110', 'cranfield0111', 'cranfield0112', 'cranfield0113', 'cranfield0114', 'cranfield0115', 'cranfield0116', 'cranfield0117', 'cranfield0118', 'cranfield0119', 'cranfield0120', 'cranfield0121', 'cranfield0122', 'cranfield0123', 'cranfield0124', 'cranfield0125', 'cranfield0126', 'cranfield0127', 'cranfield0128', 'cranfield0129', 'cranfield0130', 'cranfield0131', 'cranfield0132', 'cranfield0133', 'cranfield0134', 'cranfield0135', 'cranfield0136', 'cranfield0137', 'cranfield0138', 'cranfield0139', 'cranfield0140', 'cranfield0141', 'cranfield0142', 'cranfield0143', 'cranfield0144', 'cranfield0145', 'cranfield0146', 'cranfield0147', 'cranfield0148', 'cranfield0149', 'cranfield0150', 'cranfield0151', 'cranfield0152', 'cranfield0153', 'cranfield0154', 'cranfield0155', 'cranfield0156', 'cranfield0157', 'cranfield0158', 'cranfield0159', 'cranfield0160', 'cranfield0161', 'cranfield0162', 'cranfield0163', 'cranfield0164', 'cranfield0165', 'cranfield0166', 'cranfield0167', 'cranfield0168', 'cranfield0169', 'cranfield0170', 'cranfield0171', 'cranfield0172', 'cranfield0173', 'cranfield0174', 'cranfield0175', 'cranfield0176', 'cranfield0177', 'cranfield0178', 'cranfield0179', 'cranfield0180', 'cranfield0181', 'cranfield0182', 'cranfield0183', 'cranfield0184', 'cranfield0185', 'cranfield0186', 'cranfield0187', 'cranfield0188', 'cranfield0189', 'cranfield0190', 'cranfield0191', 'cranfield0192', 'cranfield0193', 'cranfield0194', 'cranfield0195', 'cranfield0196', 'cranfield0197', 'cranfield0198', 'cranfield0199', 'cranfield0200', 'cranfield0201', 'cranfield0202', 'cranfield0203', 'cranfield0204', 'cranfield0205', 'cranfield0206', 'cranfield0207', 'cranfield0208', 'cranfield0209', 'cranfield0210', 'cranfield0211', 'cranfield0212', 'cranfield0213', 'cranfield0214', 'cranfield0215', 'cranfield0216', 'cranfield0217', 'cranfield0218', 'cranfield0219', 'cranfield0220', 'cranfield0221', 'cranfield0222', 'cranfield0223', 'cranfield0224', 'cranfield0225', 'cranfield0226', 'cranfield0227', 'cranfield0228', 'cranfield0229', 'cranfield0230', 'cranfield0231', 'cranfield0232', 'cranfield0233', 'cranfield0234', 'cranfield0235', 'cranfield0236', 'cranfield0237', 'cranfield0238', 'cranfield0239', 'cranfield0240', 'cranfield0241', 'cranfield0242', 'cranfield0243', 'cranfield0244', 'cranfield0245', 'cranfield0246', 'cranfield0247', 'cranfield0248', 'cranfield0249', 'cranfield0250', 'cranfield0251', 'cranfield0252', 'cranfield0253', 'cranfield0254', 'cranfield0255', 'cranfield0256', 'cranfield0257', 'cranfield0258', 'cranfield0259', 'cranfield0260', 'cranfield0261', 'cranfield0262', 'cranfield0263', 'cranfield0264', 'cranfield0265', 'cranfield0266', 'cranfield0267', 'cranfield0268', 'cranfield0269', 'cranfield0270', 'cranfield0271', 'cranfield0272', 'cranfield0273', 'cranfield0274', 'cranfield0275', 'cranfield0276', 'cranfield0277', 'cranfield0278', 'cranfield0279', 'cranfield0280', 'cranfield0281', 'cranfield0282', 'cranfield0283', 'cranfield0284', 'cranfield0285', 'cranfield0286', 'cranfield0287', 'cranfield0288', 'cranfield0289', 'cranfield0290', 'cranfield0291', 'cranfield0292', 'cranfield0293', 'cranfield0294', 'cranfield0295', 'cranfield0296', 'cranfield0297', 'cranfield0298', 'cranfield0299', 'cranfield0300', 'cranfield0301', 'cranfield0302', 'cranfield0303', 'cranfield0304', 'cranfield0305', 'cranfield0306', 'cranfield0307', 'cranfield0308', 'cranfield0309', 'cranfield0310', 'cranfield0311', 'cranfield0312', 'cranfield0313', 'cranfield0314', 'cranfield0315', 'cranfield0316', 'cranfield0317', 'cranfield0318', 'cranfield0319', 'cranfield0320', 'cranfield0321', 'cranfield0322', 'cranfield0323', 'cranfield0324', 'cranfield0325', 'cranfield0326', 'cranfield0327', 'cranfield0328', 'cranfield0329', 'cranfield0330', 'cranfield0331', 'cranfield0332', 'cranfield0333', 'cranfield0334', 'cranfield0335', 'cranfield0336', 'cranfield0337', 'cranfield0338', 'cranfield0339', 'cranfield0340', 'cranfield0341', 'cranfield0342', 'cranfield0343', 'cranfield0344', 'cranfield0345', 'cranfield0346', 'cranfield0347', 'cranfield0348', 'cranfield0349', 'cranfield0350', 'cranfield0351', 'cranfield0352', 'cranfield0353', 'cranfield0354', 'cranfield0355', 'cranfield0356', 'cranfield0357', 'cranfield0358', 'cranfield0359', 'cranfield0360', 'cranfield0361', 'cranfield0362', 'cranfield0363', 'cranfield0364', 'cranfield0365', 'cranfield0366', 'cranfield0367', 'cranfield0368', 'cranfield0369', 'cranfield0370', 'cranfield0372', 'cranfield0373', 'cranfield0374', 'cranfield0375', 'cranfield0376', 'cranfield0377', 'cranfield0378', 'cranfield0379', 'cranfield0380', 'cranfield0381', 'cranfield0382', 'cranfield0383', 'cranfield0384', 'cranfield0385', 'cranfield0386', 'cranfield0387', 'cranfield0388', 'cranfield0389', 'cranfield0390', 'cranfield0391', 'cranfield0392', 'cranfield0393', 'cranfield0394', 'cranfield0395', 'cranfield0396', 'cranfield0397', 'cranfield0398', 'cranfield0399', 'cranfield0400', 'cranfield0401', 'cranfield0402', 'cranfield0403', 'cranfield0404', 'cranfield0405', 'cranfield0406', 'cranfield0407', 'cranfield0408', 'cranfield0409', 'cranfield0410', 'cranfield0411', 'cranfield0412', 'cranfield0413', 'cranfield0414', 'cranfield0415', 'cranfield0416', 'cranfield0417', 'cranfield0418', 'cranfield0419', 'cranfield0420', 'cranfield0421', 'cranfield0422', 'cranfield0423', 'cranfield0424', 'cranfield0425', 'cranfield0426', 'cranfield0427', 'cranfield0428', 'cranfield0429', 'cranfield0430', 'cranfield0431', 'cranfield0432', 'cranfield0433', 'cranfield0434', 'cranfield0435', 'cranfield0436', 'cranfield0437', 'cranfield0438', 'cranfield0439', 'cranfield0440', 'cranfield0441', 'cranfield0442', 'cranfield0443', 'cranfield0444', 'cranfield0445', 'cranfield0446', 'cranfield0447', 'cranfield0448', 'cranfield0449', 'cranfield0450', 'cranfield0451', 'cranfield0452', 'cranfield0453', 'cranfield0454', 'cranfield0455', 'cranfield0456', 'cranfield0457', 'cranfield0458', 'cranfield0459', 'cranfield0460', 'cranfield0461', 'cranfield0462', 'cranfield0463', 'cranfield0464', 'cranfield0465', 'cranfield0466', 'cranfield0467', 'cranfield0468', 'cranfield0469', 'cranfield0470', 'cranfield0471', 'cranfield0472', 'cranfield0473', 'cranfield0474', 'cranfield0475', 'cranfield0476', 'cranfield0477', 'cranfield0478', 'cranfield0479', 'cranfield0480', 'cranfield0481', 'cranfield0482', 'cranfield0483', 'cranfield0484', 'cranfield0485', 'cranfield0486', 'cranfield0487', 'cranfield0488', 'cranfield0489', 'cranfield0490', 'cranfield0491', 'cranfield0492', 'cranfield0493', 'cranfield0494', 'cranfield0495', 'cranfield0496', 'cranfield0497', 'cranfield0498', 'cranfield0499', 'cranfield0500', 'cranfield0501', 'cranfield0502', 'cranfield0503', 'cranfield0504', 'cranfield0505', 'cranfield0506', 'cranfield0507', 'cranfield0508', 'cranfield0509', 'cranfield0510', 'cranfield0511', 'cranfield0512', 'cranfield0513', 'cranfield0514', 'cranfield0515', 'cranfield0516', 'cranfield0517', 'cranfield0518', 'cranfield0519', 'cranfield0520', 'cranfield0521', 'cranfield0522', 'cranfield0523', 'cranfield0524', 'cranfield0525', 'cranfield0526', 'cranfield0527', 'cranfield0528', 'cranfield0529', 'cranfield0530', 'cranfield0531', 'cranfield0532', 'cranfield0533', 'cranfield0534', 'cranfield0535', 'cranfield0536', 'cranfield0537', 'cranfield0538', 'cranfield0539', 'cranfield0540', 'cranfield0541', 'cranfield0542', 'cranfield0543', 'cranfield0544', 'cranfield0545', 'cranfield0546', 'cranfield0547', 'cranfield0548', 'cranfield0549', 'cranfield0550', 'cranfield0551', 'cranfield0552', 'cranfield0553', 'cranfield0554', 'cranfield0555', 'cranfield0556', 'cranfield0557', 'cranfield0558', 'cranfield0559', 'cranfield0560', 'cranfield0561', 'cranfield0562', 'cranfield0563', 'cranfield0564', 'cranfield0565', 'cranfield0566', 'cranfield0567', 'cranfield0568', 'cranfield0569', 'cranfield0570', 'cranfield0571', 'cranfield0572', 'cranfield0573', 'cranfield0574', 'cranfield0575', 'cranfield0576', 'cranfield0577', 'cranfield0578', 'cranfield0579', 'cranfield0580', 'cranfield0581', 'cranfield0582', 'cranfield0583', 'cranfield0584', 'cranfield0585', 'cranfield0586', 'cranfield0587', 'cranfield0588', 'cranfield0589', 'cranfield0590', 'cranfield0591', 'cranfield0592', 'cranfield0593', 'cranfield0594', 'cranfield0595', 'cranfield0596', 'cranfield0597', 'cranfield0598', 'cranfield0599', 'cranfield0600', 'cranfield0601', 'cranfield0602', 'cranfield0603', 'cranfield0604', 'cranfield0605', 'cranfield0606', 'cranfield0607', 'cranfield0608', 'cranfield0609', 'cranfield0610', 'cranfield0611', 'cranfield0612', 'cranfield0613', 'cranfield0614', 'cranfield0615', 'cranfield0616', 'cranfield0617', 'cranfield0618', 'cranfield0619', 'cranfield0620', 'cranfield0621', 'cranfield0622', 'cranfield0623', 'cranfield0624', 'cranfield0625', 'cranfield0626', 'cranfield0627', 'cranfield0628', 'cranfield0629', 'cranfield0630', 'cranfield0631', 'cranfield0632', 'cranfield0633', 'cranfield0634', 'cranfield0635', 'cranfield0636', 'cranfield0637', 'cranfield0638', 'cranfield0639', 'cranfield0640', 'cranfield0641', 'cranfield0642', 'cranfield0643', 'cranfield0644', 'cranfield0645', 'cranfield0646', 'cranfield0647', 'cranfield0648', 'cranfield0649', 'cranfield0650', 'cranfield0651', 'cranfield0652', 'cranfield0653', 'cranfield0654', 'cranfield0655', 'cranfield0656', 'cranfield0657', 'cranfield0658', 'cranfield0659', 'cranfield0660', 'cranfield0661', 'cranfield0662', 'cranfield0663', 'cranfield0664', 'cranfield0665', 'cranfield0666', 'cranfield0667', 'cranfield0668', 'cranfield0669', 'cranfield0670', 'cranfield0671', 'cranfield0672', 'cranfield0673', 'cranfield0674', 'cranfield0675', 'cranfield0676', 'cranfield0677', 'cranfield0678', 'cranfield0679', 'cranfield0680', 'cranfield0681', 'cranfield0682', 'cranfield0683', 'cranfield0684', 'cranfield0685', 'cranfield0686', 'cranfield0687', 'cranfield0688', 'cranfield0689', 'cranfield0690', 'cranfield0691', 'cranfield0692', 'cranfield0693', 'cranfield0694', 'cranfield0695', 'cranfield0696', 'cranfield0697', 'cranfield0698', 'cranfield0699', 'cranfield0700', 'cranfield0701', 'cranfield0702', 'cranfield0703', 'cranfield0704', 'cranfield0705', 'cranfield0706', 'cranfield0707', 'cranfield0708', 'cranfield0709', 'cranfield0710', 'cranfield0711', 'cranfield0712', 'cranfield0713', 'cranfield0714', 'cranfield0715', 'cranfield0716', 'cranfield0717', 'cranfield0718', 'cranfield0719', 'cranfield0720', 'cranfield0721', 'cranfield0722', 'cranfield0723', 'cranfield0724', 'cranfield0725', 'cranfield0726', 'cranfield0727', 'cranfield0728', 'cranfield0729', 'cranfield0730', 'cranfield0731', 'cranfield0732', 'cranfield0733', 'cranfield0734', 'cranfield0735', 'cranfield0736', 'cranfield0737', 'cranfield0738', 'cranfield0739', 'cranfield0740', 'cranfield0741', 'cranfield0742', 'cranfield0743', 'cranfield0744', 'cranfield0745', 'cranfield0746', 'cranfield0747', 'cranfield0748', 'cranfield0749', 'cranfield0750', 'cranfield0751', 'cranfield0752', 'cranfield0753', 'cranfield0754', 'cranfield0755', 'cranfield0756', 'cranfield0757', 'cranfield0758', 'cranfield0759', 'cranfield0760', 'cranfield0761', 'cranfield0762', 'cranfield0763', 'cranfield0764', 'cranfield0765', 'cranfield0766', 'cranfield0767', 'cranfield0768', 'cranfield0769', 'cranfield0770', 'cranfield0771', 'cranfield0772', 'cranfield0773', 'cranfield0774', 'cranfield0775', 'cranfield0776', 'cranfield0777', 'cranfield0778', 'cranfield0779', 'cranfield0780', 'cranfield0781', 'cranfield0782', 'cranfield0783', 'cranfield0784', 'cranfield0785', 'cranfield0786', 'cranfield0787', 'cranfield0788', 'cranfield0789', 'cranfield0790', 'cranfield0791', 'cranfield0792', 'cranfield0793', 'cranfield0794', 'cranfield0795', 'cranfield0796', 'cranfield0797', 'cranfield0798', 'cranfield0799', 'cranfield0800', 'cranfield0801', 'cranfield0802', 'cranfield0803', 'cranfield0804', 'cranfield0805', 'cranfield0806', 'cranfield0807', 'cranfield0808', 'cranfield0809', 'cranfield0810', 'cranfield0811', 'cranfield0812', 'cranfield0813', 'cranfield0814', 'cranfield0815', 'cranfield0816', 'cranfield0817', 'cranfield0818', 'cranfield0819', 'cranfield0820', 'cranfield0821', 'cranfield0822', 'cranfield0823', 'cranfield0824', 'cranfield0825', 'cranfield0826', 'cranfield0827', 'cranfield0828', 'cranfield0829', 'cranfield0830', 'cranfield0831', 'cranfield0832', 'cranfield0833', 'cranfield0834', 'cranfield0835', 'cranfield0836', 'cranfield0837', 'cranfield0838', 'cranfield0839', 'cranfield0840', 'cranfield0841', 'cranfield0842', 'cranfield0843', 'cranfield0844', 'cranfield0845', 'cranfield0846', 'cranfield0847', 'cranfield0848', 'cranfield0849', 'cranfield0850', 'cranfield0851', 'cranfield0852', 'cranfield0853', 'cranfield0854', 'cranfield0855', 'cranfield0856', 'cranfield0857', 'cranfield0858', 'cranfield0859', 'cranfield0860', 'cranfield0861', 'cranfield0862', 'cranfield0863', 'cranfield0864', 'cranfield0865', 'cranfield0866', 'cranfield0867', 'cranfield0868', 'cranfield0869', 'cranfield0870', 'cranfield0871', 'cranfield0872', 'cranfield0873', 'cranfield0874', 'cranfield0875', 'cranfield0876', 'cranfield0877', 'cranfield0878', 'cranfield0879', 'cranfield0880', 'cranfield0881', 'cranfield0882', 'cranfield0883', 'cranfield0884', 'cranfield0885', 'cranfield0886', 'cranfield0887', 'cranfield0888', 'cranfield0889', 'cranfield0890', 'cranfield0891', 'cranfield0892', 'cranfield0893', 'cranfield0894', 'cranfield0895', 'cranfield0896', 'cranfield0897', 'cranfield0898', 'cranfield0899', 'cranfield0900', 'cranfield0901', 'cranfield0902', 'cranfield0903', 'cranfield0904', 'cranfield0905', 'cranfield0906', 'cranfield0907', 'cranfield0908', 'cranfield0909', 'cranfield0910', 'cranfield0911', 'cranfield0912', 'cranfield0913', 'cranfield0914', 'cranfield0915', 'cranfield0916', 'cranfield0917', 'cranfield0918', 'cranfield0919', 'cranfield0920', 'cranfield0921', 'cranfield0922', 'cranfield0923', 'cranfield0924', 'cranfield0925', 'cranfield0926', 'cranfield0927', 'cranfield0928', 'cranfield0929', 'cranfield0930', 'cranfield0931', 'cranfield0932', 'cranfield0933', 'cranfield0934', 'cranfield0935', 'cranfield0936', 'cranfield0937', 'cranfield0938', 'cranfield0939', 'cranfield0940', 'cranfield0941', 'cranfield0942', 'cranfield0943', 'cranfield0944', 'cranfield0945', 'cranfield0946', 'cranfield0947', 'cranfield0948', 'cranfield0949', 'cranfield0950', 'cranfield0951', 'cranfield0952', 'cranfield0953', 'cranfield0954', 'cranfield0955', 'cranfield0956', 'cranfield0957', 'cranfield0958', 'cranfield0959', 'cranfield0960', 'cranfield0961', 'cranfield0962', 'cranfield0963', 'cranfield0964', 'cranfield0965', 'cranfield0966', 'cranfield0967', 'cranfield0968', 'cranfield0969', 'cranfield0970', 'cranfield0971', 'cranfield0972', 'cranfield0973', 'cranfield0974', 'cranfield0975', 'cranfield0976', 'cranfield0977', 'cranfield0978', 'cranfield0979', 'cranfield0980', 'cranfield0981', 'cranfield0982', 'cranfield0983', 'cranfield0984', 'cranfield0985', 'cranfield0986', 'cranfield0987', 'cranfield0988', 'cranfield0989', 'cranfield0990', 'cranfield0991', 'cranfield0992', 'cranfield0993', 'cranfield0994', 'cranfield0995', 'cranfield0996', 'cranfield0997', 'cranfield0998', 'cranfield0999', 'cranfield1000', 'cranfield1001', 'cranfield1002', 'cranfield1003', 'cranfield1004', 'cranfield1005', 'cranfield1006', 'cranfield1007', 'cranfield1008', 'cranfield1009', 'cranfield1010', 'cranfield1011', 'cranfield1012', 'cranfield1013', 'cranfield1014', 'cranfield1015', 'cranfield1016', 'cranfield1017', 'cranfield1018', 'cranfield1019', 'cranfield1020', 'cranfield1021', 'cranfield1022', 'cranfield1023', 'cranfield1024', 'cranfield1025', 'cranfield1026', 'cranfield1027', 'cranfield1028', 'cranfield1029', 'cranfield1030', 'cranfield1031', 'cranfield1032', 'cranfield1033', 'cranfield1034', 'cranfield1035', 'cranfield1036', 'cranfield1037', 'cranfield1038', 'cranfield1039', 'cranfield1040', 'cranfield1041', 'cranfield1042', 'cranfield1043', 'cranfield1044', 'cranfield1045', 'cranfield1046', 'cranfield1047', 'cranfield1048', 'cranfield1049', 'cranfield1050', 'cranfield1051', 'cranfield1052', 'cranfield1053', 'cranfield1054', 'cranfield1055', 'cranfield1056', 'cranfield1057', 'cranfield1058', 'cranfield1059', 'cranfield1060', 'cranfield1061', 'cranfield1062', 'cranfield1063', 'cranfield1064', 'cranfield1065', 'cranfield1066', 'cranfield1067', 'cranfield1068', 'cranfield1069', 'cranfield1070', 'cranfield1071', 'cranfield1072', 'cranfield1073', 'cranfield1074', 'cranfield1075', 'cranfield1076', 'cranfield1077', 'cranfield1078', 'cranfield1079', 'cranfield1080', 'cranfield1081', 'cranfield1082', 'cranfield1083', 'cranfield1084', 'cranfield1085', 'cranfield1086', 'cranfield1087', 'cranfield1088', 'cranfield1089', 'cranfield1090', 'cranfield1091', 'cranfield1092', 'cranfield1093', 'cranfield1094', 'cranfield1095', 'cranfield1096', 'cranfield1097', 'cranfield1098', 'cranfield1099', 'cranfield1100', 'cranfield1101', 'cranfield1102', 'cranfield1103', 'cranfield1104', 'cranfield1105', 'cranfield1106', 'cranfield1107', 'cranfield1108', 'cranfield1109', 'cranfield1110', 'cranfield1111', 'cranfield1112', 'cranfield1113', 'cranfield1114', 'cranfield1115', 'cranfield1116', 'cranfield1117', 'cranfield1118', 'cranfield1119', 'cranfield1120', 'cranfield1121', 'cranfield1122', 'cranfield1123', 'cranfield1124', 'cranfield1125', 'cranfield1126', 'cranfield1127', 'cranfield1128', 'cranfield1129', 'cranfield1130', 'cranfield1131', 'cranfield1132', 'cranfield1133', 'cranfield1134', 'cranfield1135', 'cranfield1136', 'cranfield1137', 'cranfield1138', 'cranfield1139', 'cranfield1140', 'cranfield1141', 'cranfield1142', 'cranfield1143', 'cranfield1144', 'cranfield1145', 'cranfield1146', 'cranfield1147', 'cranfield1148', 'cranfield1149', 'cranfield1150', 'cranfield1151', 'cranfield1152', 'cranfield1153', 'cranfield1154', 'cranfield1155', 'cranfield1156', 'cranfield1157', 'cranfield1158', 'cranfield1159', 'cranfield1160', 'cranfield1161', 'cranfield1162', 'cranfield1163', 'cranfield1164', 'cranfield1165', 'cranfield1166', 'cranfield1167', 'cranfield1168', 'cranfield1169', 'cranfield1170', 'cranfield1171', 'cranfield1172', 'cranfield1173', 'cranfield1174', 'cranfield1175', 'cranfield1176', 'cranfield1177', 'cranfield1178', 'cranfield1179', 'cranfield1180', 'cranfield1181', 'cranfield1182', 'cranfield1183', 'cranfield1184', 'cranfield1185', 'cranfield1186', 'cranfield1187', 'cranfield1188', 'cranfield1189', 'cranfield1190', 'cranfield1191', 'cranfield1192', 'cranfield1193', 'cranfield1194', 'cranfield1195', 'cranfield1196', 'cranfield1197', 'cranfield1198', 'cranfield1199', 'cranfield1200', 'cranfield1201', 'cranfield1202', 'cranfield1203', 'cranfield1204', 'cranfield1205', 'cranfield1206', 'cranfield1207', 'cranfield1208', 'cranfield1209', 'cranfield1210', 'cranfield1211', 'cranfield1212', 'cranfield1213', 'cranfield1214', 'cranfield1215', 'cranfield1216', 'cranfield1217', 'cranfield1218', 'cranfield1219', 'cranfield1220', 'cranfield1221', 'cranfield1222', 'cranfield1223', 'cranfield1224', 'cranfield1225', 'cranfield1226', 'cranfield1227', 'cranfield1228', 'cranfield1229', 'cranfield1230', 'cranfield1231', 'cranfield1232', 'cranfield1233', 'cranfield1234', 'cranfield1235', 'cranfield1236', 'cranfield1237', 'cranfield1238', 'cranfield1239', 'cranfield1240', 'cranfield1241', 'cranfield1242', 'cranfield1243', 'cranfield1244', 'cranfield1245', 'cranfield1246', 'cranfield1247', 'cranfield1248', 'cranfield1249', 'cranfield1250', 'cranfield1251', 'cranfield1252', 'cranfield1253', 'cranfield1254', 'cranfield1255', 'cranfield1256', 'cranfield1257', 'cranfield1258', 'cranfield1259', 'cranfield1260', 'cranfield1261', 'cranfield1262', 'cranfield1263', 'cranfield1264', 'cranfield1265', 'cranfield1266', 'cranfield1267', 'cranfield1268', 'cranfield1269', 'cranfield1270', 'cranfield1271', 'cranfield1272', 'cranfield1273', 'cranfield1274', 'cranfield1275', 'cranfield1276', 'cranfield1277', 'cranfield1278', 'cranfield1279', 'cranfield1280', 'cranfield1281', 'cranfield1282', 'cranfield1283', 'cranfield1284', 'cranfield1285', 'cranfield1286', 'cranfield1287', 'cranfield1288', 'cranfield1289', 'cranfield1290', 'cranfield1291', 'cranfield1292', 'cranfield1293', 'cranfield1294', 'cranfield1295', 'cranfield1296', 'cranfield1297', 'cranfield1298', 'cranfield1299', 'cranfield1300', 'cranfield1301', 'cranfield1302', 'cranfield1303', 'cranfield1304', 'cranfield1305', 'cranfield1306', 'cranfield1307', 'cranfield1308', 'cranfield1309', 'cranfield1310', 'cranfield1311', 'cranfield1312', 'cranfield1313', 'cranfield1314', 'cranfield1315', 'cranfield1316', 'cranfield1317', 'cranfield1318', 'cranfield1319', 'cranfield1320', 'cranfield1321', 'cranfield1322', 'cranfield1323', 'cranfield1324', 'cranfield1325', 'cranfield1326', 'cranfield1327', 'cranfield1328', 'cranfield1329', 'cranfield1330', 'cranfield1331', 'cranfield1332', 'cranfield1333', 'cranfield1334', 'cranfield1335', 'cranfield1336', 'cranfield1337', 'cranfield1338', 'cranfield1339', 'cranfield1340', 'cranfield1341', 'cranfield1342', 'cranfield1343', 'cranfield1344', 'cranfield1345', 'cranfield1346', 'cranfield1347', 'cranfield1348', 'cranfield1349', 'cranfield1350', 'cranfield1351', 'cranfield1352', 'cranfield1353', 'cranfield1354', 'cranfield1355', 'cranfield1356', 'cranfield1357', 'cranfield1358', 'cranfield1359', 'cranfield1360', 'cranfield1361', 'cranfield1362', 'cranfield1363', 'cranfield1364', 'cranfield1365', 'cranfield1366', 'cranfield1367', 'cranfield1368', 'cranfield1369', 'cranfield1370', 'cranfield1371', 'cranfield1372', 'cranfield1373', 'cranfield1374', 'cranfield1375', 'cranfield1376', 'cranfield1377', 'cranfield1378', 'cranfield1379', 'cranfield1380', 'cranfield1381', 'cranfield1382', 'cranfield1383', 'cranfield1384', 'cranfield1385', 'cranfield1386', 'cranfield1387', 'cranfield1388', 'cranfield1389', 'cranfield1390', 'cranfield1391', 'cranfield1392', 'cranfield1393', 'cranfield1394', 'cranfield1395', 'cranfield1396', 'cranfield1397', 'cranfield1398', 'cranfield1399', 'cranfield1400']\n",
      "numeber of comparisions : 2710\n"
     ]
    }
   ],
   "source": [
    "# T1 OR NOT T2\n",
    "t1 = 'positive'\n",
    "t2 = 'letter'\n",
    "t1_list = loaded_inverted_index[t1][1]\n",
    "t1_list_len = len(loaded_inverted_index[t1][1])\n",
    "t2_list = loaded_inverted_index[t2][1]\n",
    "t2_list_len = len(loaded_inverted_index[t2][1])\n",
    "not_t2_list = [ele for ele in files if ele not in t2_list]\n",
    "\n",
    "if(len(t1_list) < len(not_t2_list)):\n",
    "    t1_or_not_t2, comparisions = union(t1_list,not_t2_list)\n",
    "else:\n",
    "    t1_or_not_t2, comparisions = union(not_t2_list,t1_list)\n",
    "print(f'List of files containing {t1} OR NOT {t2} : {t1_or_not_t2}')\n",
    "print(f'numeber of comparisions : {comparisions}')\n",
    "# t1_or_not_t2 = list(set(t1_list).union(set(not_t2_list)))\n",
    "# print(max(t1_list_len,len(not_t2_list)))\n",
    "# print(len(t1_or_not_t2))\n",
    "# print(sorted(t1_or_not_t2))"
   ]
  },
  {
   "cell_type": "code",
   "execution_count": 46,
   "id": "47452e96",
   "metadata": {},
   "outputs": [
    {
     "name": "stdout",
     "output_type": "stream",
     "text": [
      "Enter the number of test cases : 1\n",
      "Enter the input sequence : car bag in a canister\n",
      "enter the comma seperated operationsOR, AND\n",
      "token -\"car\" is not present in the index\n",
      "Enter the input sequence : bag in a canister\n",
      "enter the comma seperated operationsOR\n",
      "token -\"bag\" is not present in the index\n",
      "Enter the input sequence : canister\n",
      "enter the comma seperated operations\n",
      "token -\"canister\" is not present in the index\n",
      "Enter the input sequence : it is a positive letter\n",
      "enter the comma seperated operationsOR\n",
      "['positive', 'letter']\n",
      "hit or\n",
      "Query :  positive OR letter\n",
      "Number of documents retrieved 19\n",
      "Names of the documents retrieved for query : ['cranfield0133', 'cranfield0150', 'cranfield0371', 'cranfield0392', 'cranfield0447', 'cranfield0515', 'cranfield0636', 'cranfield0693', 'cranfield0694', 'cranfield0721', 'cranfield0988', 'cranfield1005', 'cranfield1035', 'cranfield1147', 'cranfield1201', 'cranfield1218', 'cranfield1302', 'cranfield1347', 'cranfield1365']\n",
      "Number of comparisons required for query : 6\n"
     ]
    }
   ],
   "source": [
    "# Q2-6\n",
    "test_cases = int(input(\"Enter the number of test cases : \"))\n",
    "stop_words = set(stopwords.words('english'))\n",
    "while(test_cases > 0):\n",
    "    total_comparisions = 0\n",
    "    s = input(\"Enter the input sequence : \")\n",
    "    operators = list(map(str,input(\"enter the comma seperated operations\").split(\",\")))\n",
    "    operators = [word.strip() for word in operators]\n",
    "    s = s.lower()\n",
    "    updated_word_list = s.split()\n",
    "\n",
    "    token = RegexpTokenizer(r\"\\w+\")\n",
    "\n",
    "    updated_word_list = token.tokenize(' '.join(updated_word_list))\n",
    "    s = ' '.join(updated_word_list)\n",
    "#     s = s.translate(str.maketrans('', '', string.punctuation))\n",
    "    s = s.split(\" \")\n",
    "    s = [word for word in s if word not in stop_words]\n",
    "    try :\n",
    "        t1 = s[0]\n",
    "        t1_list = loaded_inverted_index[t1][1]\n",
    "    except :\n",
    "        print(f'token -\"{t1}\" is not present in the index')\n",
    "        s = s[1:]\n",
    "        if(len(s) == 0):\n",
    "            test_cases = 0\n",
    "            continue\n",
    "        operators = operators[1:]\n",
    "        continue\n",
    "    print(s)\n",
    "    for i in range(len(operators)):\n",
    "        comparisions = 0\n",
    "        t2 = s[i+1]\n",
    "        op = operators[i]\n",
    "#         print(f'entered for loop i={i} and op={op}')\n",
    "        t2_list = loaded_inverted_index[t2][1]\n",
    "        if op.lower() == \"and\":\n",
    "            #and logic\n",
    "            if(len(t1_list) < len(t2_list)):\n",
    "                t1_list, comparisions = intersection(t1_list,t2_list)\n",
    "            else:\n",
    "                t1_list, comparisions = intersection(t2_list,t1_list)\n",
    "#             t1_list = list(set(t1_list) & set(t2_list))\n",
    "            print(\"hit and\")\n",
    "    \n",
    "        elif op.lower() == \"or\":\n",
    "            #or logic\n",
    "            if(len(t1_list) < len(t2_list)):\n",
    "                t1_list, comparisions = union(t1_list,t2_list)\n",
    "            else:\n",
    "                t1_list, comparisions = union(t2_list,t1_list)\n",
    "            \n",
    "#             t1_list = list(set(t1_list).union(set(t2_list)))\n",
    "            print(\"hit or\")\n",
    "    \n",
    "        elif op.lower() == \"and not\":\n",
    "            #and not logic\n",
    "            not_t2_list = [ele for ele in files if ele not in t2_list]\n",
    "            if(len(t1_list) < len(not_t2_list)):\n",
    "                t1_list, comparisions = intersection(t1_list,not_t2_list)\n",
    "            else:\n",
    "                t1_list, comparisions = intersection(not_t2_list,t1_list)\n",
    "            \n",
    "#             t1_list = list(set(t1_list) & set(not_t2_list))\n",
    "            print(\"hit and not\")\n",
    "    \n",
    "        elif op.lower() == \"or not\":\n",
    "            #or not logic\n",
    "            not_t2_list = [ele for ele in u if ele not in t2_list]\n",
    "            if(len(t1_list) < len(not_t2_list)):\n",
    "                t1_list, comparisions = union(t1_list,not_t2_list)\n",
    "            else:\n",
    "                t1_list, comparisions = union(not_t2_list,t1_list)\n",
    "            \n",
    "#             t1_list = list(set(t1_list).union(set(not_t2_list)))\n",
    "            print(\"hit or not\")\n",
    "        total_comparisions += comparisions\n",
    "            \n",
    "    #query\n",
    "    query = \"\"\n",
    "    for i in range(len(s)-1):\n",
    "        query += \" \"+s[i]+\" \"+operators[i]\n",
    "    query += \" \"+s[len(s)-1]    \n",
    "    print(f'Query : {query}')\n",
    "    print(f'Number of documents retrieved {len(t1_list)}')\n",
    "    print(f'Names of the documents retrieved for query : {t1_list}')\n",
    "    print(f'Number of comparisons required for query : {total_comparisions}')\n",
    "    test_cases -= 1"
   ]
  },
  {
   "cell_type": "code",
   "execution_count": null,
   "id": "fc031d31",
   "metadata": {},
   "outputs": [],
   "source": []
  }
 ],
 "metadata": {
  "kernelspec": {
   "display_name": "Python 3 (ipykernel)",
   "language": "python",
   "name": "python3"
  },
  "language_info": {
   "codemirror_mode": {
    "name": "ipython",
    "version": 3
   },
   "file_extension": ".py",
   "mimetype": "text/x-python",
   "name": "python",
   "nbconvert_exporter": "python",
   "pygments_lexer": "ipython3",
   "version": "3.9.12"
  }
 },
 "nbformat": 4,
 "nbformat_minor": 5
}
